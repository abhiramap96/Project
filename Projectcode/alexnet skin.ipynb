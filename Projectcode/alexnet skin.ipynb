{
 "cells": [
  {
   "cell_type": "code",
   "execution_count": 80,
   "id": "1e6ad155",
   "metadata": {},
   "outputs": [],
   "source": [
    "import numpy as np\n",
    "import pandas as pd\n",
    "\n",
    "import io\n",
    "import os\n",
    "import tensorflow as tf\n",
    "\n",
    "from PIL import Image\n",
    "from glob import glob\n",
    "import itertools\n",
    "\n",
    "import plotly.graph_objects as go\n",
    "import plotly.express as px\n",
    "from plotly.subplots import make_subplots\n",
    "import matplotlib.pyplot as plt\n",
    "import seaborn as sns\n",
    "\n",
    "\n",
    "import tensorflow as tf\n",
    "from tensorflow.keras.preprocessing.image import ImageDataGenerator\n",
    "from tensorflow.keras.models import Sequential\n",
    "from tensorflow.keras.layers import Conv2D, Flatten, BatchNormalization, Dropout, Dense, MaxPooling2D,Activation\n",
    "from tensorflow.keras.callbacks import ReduceLROnPlateau, EarlyStopping\n",
    "\n",
    "from sklearn.model_selection import train_test_split\n",
    "from sklearn.metrics import classification_report, confusion_matrix\n",
    "\n",
    "from IPython.display import display\n",
    "#To see the value of multiple statements at once.\n",
    "from IPython.core.interactiveshell import InteractiveShell\n",
    "InteractiveShell.ast_node_interactivity = \"all\""
   ]
  },
  {
   "cell_type": "code",
   "execution_count": 2,
   "id": "945208c5",
   "metadata": {},
   "outputs": [
    {
     "name": "stdout",
     "output_type": "stream",
     "text": [
      "Requirement already satisfied: plotly in c:\\programdata\\anaconda3\\lib\\site-packages (5.8.0)\n",
      "Requirement already satisfied: tenacity>=6.2.0 in c:\\programdata\\anaconda3\\lib\\site-packages (from plotly) (8.0.1)\n"
     ]
    }
   ],
   "source": [
    "!pip install plotly"
   ]
  },
  {
   "cell_type": "code",
   "execution_count": 81,
   "id": "ef5a4579",
   "metadata": {},
   "outputs": [],
   "source": [
    "def prepare_for_train_test(X, Y):\n",
    "    # Splitting into train and test set\n",
    "    X_train, X_test, Y_train, Y_test = train_test_split(X, Y, test_size=0.2, random_state=1)\n",
    "    \n",
    "    # Prepare data for training and testing the model\n",
    "    train_datagen = ImageDataGenerator(rescale = 1./255,\n",
    "                                  rotation_range = 10,\n",
    "                                  width_shift_range = 0.2,\n",
    "                                  height_shift_range = 0.2,\n",
    "                                  shear_range = 0.2,\n",
    "                                  horizontal_flip = True,\n",
    "                                  vertical_flip = True,\n",
    "                                  fill_mode = 'nearest')\n",
    "    train_datagen.fit(X_train)\n",
    "    test_datagen = ImageDataGenerator(rescale = 1./255)\n",
    "    test_datagen.fit(X_test)\n",
    "    return X_train, X_test, Y_train, Y_test"
   ]
  },
  {
   "cell_type": "code",
   "execution_count": 82,
   "id": "3a68b677",
   "metadata": {},
   "outputs": [],
   "source": [
    "def create_model():\n",
    "   \n",
    "    model = Sequential()\n",
    "\n",
    "    #1st Convolutional Layer\n",
    "    model.add(Conv2D(filters=96, input_shape=(28,28,3), kernel_size=(11,11), strides=(4,4), padding='same'))\n",
    "    model.add(BatchNormalization())\n",
    "    model.add(Activation('relu'))\n",
    "    model.add(MaxPooling2D(pool_size=(2,2), strides=(2,2), padding='same'))\n",
    "\n",
    "    #2nd Convolutional Layer\n",
    "    model.add(Conv2D(filters=256, kernel_size=(5, 5), strides=(1,1), padding='same'))\n",
    "    model.add(BatchNormalization())\n",
    "    model.add(Activation('relu'))\n",
    "    model.add(MaxPooling2D(pool_size=(2,2), strides=(2,2), padding='same'))\n",
    "\n",
    "    #3rd Convolutional Layer\n",
    "    model.add(Conv2D(filters=384, kernel_size=(3,3), strides=(1,1), padding='same'))\n",
    "    model.add(BatchNormalization())\n",
    "    model.add(Activation('relu'))\n",
    "\n",
    "    #4th Convolutional Layer\n",
    "    model.add(Conv2D(filters=384, kernel_size=(3,3), strides=(1,1), padding='same'))\n",
    "    model.add(BatchNormalization())\n",
    "    model.add(Activation('relu'))\n",
    "\n",
    "    #5th Convolutional Layer\n",
    "    model.add(Conv2D(filters=256, kernel_size=(3,3), strides=(1,1), padding='same'))\n",
    "    model.add(BatchNormalization())\n",
    "    model.add(Activation('relu'))\n",
    "    model.add(MaxPooling2D(pool_size=(2,2), strides=(2,2), padding='same'))\n",
    "\n",
    "    #Passing it to a Fully Connected layer\n",
    "    model.add(Flatten())\n",
    "    # 1st Fully Connected Layer\n",
    "    model.add(Dense(4096, input_shape=(28,28,3,)))\n",
    "    model.add(BatchNormalization())\n",
    "    model.add(Activation('relu'))\n",
    "    # Add Dropout to prevent overfitting\n",
    "    model.add(Dropout(0.4))\n",
    "\n",
    "    #2nd Fully Connected Layer\n",
    "    model.add(Dense(4096))\n",
    "    model.add(BatchNormalization())\n",
    "    model.add(Activation('relu'))\n",
    "    #Add Dropout\n",
    "    model.add(Dropout(0.4))\n",
    "\n",
    "    #3rd Fully Connected Layer\n",
    "    model.add(Dense(1000))\n",
    "    model.add(BatchNormalization())\n",
    "    model.add(Activation('relu'))\n",
    "    #Add Dropout\n",
    "    model.add(Dropout(0.4))\n",
    "\n",
    "    #Output Layer\n",
    "    model.add(Dense(7))\n",
    "    model.add(BatchNormalization())\n",
    "    model.add(Activation('softmax'))\n",
    "    optimizer = tf.keras.optimizers.Nadam(learning_rate = 0.001)\n",
    "\n",
    "    model.compile(loss = 'sparse_categorical_crossentropy',\n",
    "                 optimizer = optimizer,\n",
    "                  metrics = ['accuracy'])\n",
    "    print(model.summary())\n",
    "    return model;"
   ]
  },
  {
   "cell_type": "code",
   "execution_count": 83,
   "id": "abf90c06",
   "metadata": {},
   "outputs": [],
   "source": [
    "def train_model(model, X_train, Y_train, EPOCHS=25):\n",
    "    early_stop = EarlyStopping(monitor='val_loss', patience=10, verbose=1, \n",
    "                           mode='auto')\n",
    "                               #, restore_best_weights=True)\n",
    "    \n",
    "    reduce_lr = ReduceLROnPlateau(monitor='val_loss', factor=0.1, patience=3, \n",
    "                              verbose=1, mode='auto')\n",
    "    \n",
    "    history = model.fit(X_train,\n",
    "                        Y_train,\n",
    "                        validation_split=0.2,\n",
    "                        batch_size = 64,\n",
    "                        epochs = EPOCHS,\n",
    "                        callbacks = [reduce_lr, early_stop])\n",
    "    return history"
   ]
  },
  {
   "cell_type": "code",
   "execution_count": 84,
   "id": "11e789c9",
   "metadata": {},
   "outputs": [],
   "source": [
    "def test_model(model, X_test, Y_test):\n",
    "    model_acc = model.evaluate(X_test, Y_test, verbose=0)[1]\n",
    "    print(\"Test Accuracy: {:.3f}%\".format(model_acc * 100))\n",
    "    y_true = np.array(Y_test)\n",
    "    y_pred = model.predict(X_test)\n",
    "    y_pred = np.array(list(map(lambda x: np.argmax(x), y_pred)))\n",
    "    clr = classification_report(y_true, y_pred, target_names=label_mapping.values())\n",
    "    print(clr)\n",
    "    \n",
    "    sample_data = X_test[:15]\n",
    "    plt.figure(figsize=(22, 12))\n",
    "    for i in range(15):\n",
    "        plt.subplot(3, 5, i + 1)\n",
    "        plt.imshow(sample_data[i])\n",
    "        plt.title(label_mapping[y_true[i][0]] + '|' + label_mapping[y_pred[i]])\n",
    "        plt.axis(\"off\")\n",
    "    plt.show() "
   ]
  },
  {
   "cell_type": "code",
   "execution_count": 85,
   "id": "6a3e7875",
   "metadata": {},
   "outputs": [],
   "source": [
    "def plot_model_training_curve(history):\n",
    "    fig = make_subplots(rows=1, cols=2, subplot_titles=['Model Accuracy', 'Model Loss'])\n",
    "    fig.add_trace(\n",
    "        go.Scatter(\n",
    "            y=history.history['accuracy'], \n",
    "            name='train_acc'), \n",
    "        row=1, col=1)\n",
    "    fig.add_trace(\n",
    "        go.Scatter(\n",
    "            y=history.history['val_accuracy'], \n",
    "            name='val_acc'), \n",
    "        row=1, col=1)\n",
    "    fig.add_trace(\n",
    "        go.Scatter(\n",
    "            y=history.history['loss'], \n",
    "            name='train_loss'), \n",
    "        row=1, col=2)\n",
    "    fig.add_trace(\n",
    "        go.Scatter(\n",
    "            y=history.history['val_loss'], \n",
    "            name='val_loss'), \n",
    "        row=1, col=2)\n",
    "    fig.show()"
   ]
  },
  {
   "cell_type": "code",
   "execution_count": 86,
   "id": "1ec5630b",
   "metadata": {},
   "outputs": [],
   "source": [
    "def create_confusion_matrix(model, x_test_normalized, y_test, cm_plot_labels, name):\n",
    "    #Get the true and predicted labels\n",
    "    y_predict_classes, y_true_classes = cal_true_pred_classes(model, x_test_normalized, y_test)\n",
    "\n",
    "    #Compute the confusion matrix\n",
    "    confusion_matrix_computed = confusion_matrix(y_true_classes, y_predict_classes)\n",
    "\n",
    "    #Plot the confusion matrix\n",
    "    plot_confusion_matrix(confusion_matrix_computed, cm_plot_labels, name) "
   ]
  },
  {
   "cell_type": "code",
   "execution_count": 87,
   "id": "0659a170",
   "metadata": {},
   "outputs": [],
   "source": [
    "def plot_confusion_matrix(cm, classes,\n",
    "                          name,\n",
    "                          normalize=False,\n",
    "                          title='Confusion matrix',\n",
    "                          cmap=plt.cm.Blues):\n",
    "    \n",
    "    plt.figure(figsize=(8,6))\n",
    "    plt.imshow(cm, interpolation='nearest', cmap=cmap)\n",
    "    plt.title(name)\n",
    "    plt.colorbar()\n",
    "    tick_marks = np.arange(len(classes))\n",
    "    plt.xticks(tick_marks, classes, rotation=45)\n",
    "    plt.yticks(tick_marks, classes)\n",
    "\n",
    "    if normalize:\n",
    "        cm = cm.astype('float') / cm.sum(axis=1)[:, np.newaxis]\n",
    "\n",
    "    thresh = cm.max() / 2.\n",
    "    for i, j in itertools.product(range(cm.shape[0]), range(cm.shape[1])):\n",
    "        plt.text(j, i, cm[i, j],\n",
    "                 horizontalalignment=\"center\",\n",
    "                 color=\"white\" if cm[i, j] > thresh else \"black\")\n",
    "    \n",
    "#     b, t = plt.ylim()\n",
    "#     b += 0.5\n",
    "#     t -= 0.5\n",
    "#     plt.ylim(b, t)\n",
    "    \n",
    "    plt.tight_layout()\n",
    "    plt.ylabel('True Labels')\n",
    "    plt.xlabel('Predicted Labels')\n",
    "    fig = plt\n",
    "    fig.savefig('C:\\\\Users\\\\Marwan Gamal\\\\Downloads\\\\Skin Cancer\\\\Photo\\\\' + name + '_confusion_matrix.png', dpi=300)"
   ]
  },
  {
   "cell_type": "code",
   "execution_count": 88,
   "id": "954eb3fe",
   "metadata": {},
   "outputs": [],
   "source": [
    "base_skin_dir = os.path.join('..', 'input')\n",
    "\n",
    "# Merging images from both folders HAM10000_images_part1.zip and HAM10000_images_part2.zip into one dictionary\n",
    "\n",
    "imageid_path_dict = {os.path.splitext(os.path.basename(x))[0]: x\n",
    "                     for x in glob(os.path.join(base_skin_dir,\"E:\\input\", '*', '*.jpg'))}\n",
    "lesion_type_dict = {\n",
    "    'nv': 'Melanocytic nevi (nv)',\n",
    "    'mel': 'Melanoma (mel)',\n",
    "    'bkl': 'Benign keratosis-like lesions (bkl)',\n",
    "    'bcc': 'Basal cell carcinoma (bcc)',\n",
    "    'akiec': 'Actinic keratoses (akiec)',\n",
    "    'vasc': 'Vascular lesions (vasc)',\n",
    "    'df': 'Dermatofibroma (df)'\n",
    "}\n",
    "label_mapping = {\n",
    "    0: 'nv',\n",
    "    1: 'mel',\n",
    "    2: 'bkl',\n",
    "    3: 'bcc',\n",
    "    4: 'akiec',\n",
    "    5: 'vasc',\n",
    "    6: 'df'\n",
    "}\n",
    "reverse_label_mapping = dict((value, key) for key, value in label_mapping.items())"
   ]
  },
  {
   "cell_type": "code",
   "execution_count": 89,
   "id": "b3c596c5",
   "metadata": {},
   "outputs": [],
   "source": [
    "data = pd.read_csv(os.path.join(base_skin_dir,'E:/input','E:/HAM00001/HAM10000_metadata.csv'))"
   ]
  },
  {
   "cell_type": "code",
   "execution_count": 90,
   "id": "cdd54a83",
   "metadata": {},
   "outputs": [
    {
     "data": {
      "text/html": [
       "<div>\n",
       "<style scoped>\n",
       "    .dataframe tbody tr th:only-of-type {\n",
       "        vertical-align: middle;\n",
       "    }\n",
       "\n",
       "    .dataframe tbody tr th {\n",
       "        vertical-align: top;\n",
       "    }\n",
       "\n",
       "    .dataframe thead th {\n",
       "        text-align: right;\n",
       "    }\n",
       "</style>\n",
       "<table border=\"1\" class=\"dataframe\">\n",
       "  <thead>\n",
       "    <tr style=\"text-align: right;\">\n",
       "      <th></th>\n",
       "      <th>lesion_id</th>\n",
       "      <th>image_id</th>\n",
       "      <th>dx</th>\n",
       "      <th>dx_type</th>\n",
       "      <th>age</th>\n",
       "      <th>sex</th>\n",
       "      <th>localization</th>\n",
       "      <th>dataset</th>\n",
       "    </tr>\n",
       "  </thead>\n",
       "  <tbody>\n",
       "    <tr>\n",
       "      <th>0</th>\n",
       "      <td>HAM_0000118</td>\n",
       "      <td>ISIC_0027419</td>\n",
       "      <td>bkl</td>\n",
       "      <td>histo</td>\n",
       "      <td>80.0</td>\n",
       "      <td>male</td>\n",
       "      <td>scalp</td>\n",
       "      <td>vidir_modern</td>\n",
       "    </tr>\n",
       "    <tr>\n",
       "      <th>1</th>\n",
       "      <td>HAM_0000118</td>\n",
       "      <td>ISIC_0025030</td>\n",
       "      <td>bkl</td>\n",
       "      <td>histo</td>\n",
       "      <td>80.0</td>\n",
       "      <td>male</td>\n",
       "      <td>scalp</td>\n",
       "      <td>vidir_modern</td>\n",
       "    </tr>\n",
       "    <tr>\n",
       "      <th>2</th>\n",
       "      <td>HAM_0002730</td>\n",
       "      <td>ISIC_0026769</td>\n",
       "      <td>bkl</td>\n",
       "      <td>histo</td>\n",
       "      <td>80.0</td>\n",
       "      <td>male</td>\n",
       "      <td>scalp</td>\n",
       "      <td>vidir_modern</td>\n",
       "    </tr>\n",
       "    <tr>\n",
       "      <th>3</th>\n",
       "      <td>HAM_0002730</td>\n",
       "      <td>ISIC_0025661</td>\n",
       "      <td>bkl</td>\n",
       "      <td>histo</td>\n",
       "      <td>80.0</td>\n",
       "      <td>male</td>\n",
       "      <td>scalp</td>\n",
       "      <td>vidir_modern</td>\n",
       "    </tr>\n",
       "    <tr>\n",
       "      <th>4</th>\n",
       "      <td>HAM_0001466</td>\n",
       "      <td>ISIC_0031633</td>\n",
       "      <td>bkl</td>\n",
       "      <td>histo</td>\n",
       "      <td>75.0</td>\n",
       "      <td>male</td>\n",
       "      <td>ear</td>\n",
       "      <td>vidir_modern</td>\n",
       "    </tr>\n",
       "  </tbody>\n",
       "</table>\n",
       "</div>"
      ],
      "text/plain": [
       "     lesion_id      image_id   dx dx_type   age   sex localization  \\\n",
       "0  HAM_0000118  ISIC_0027419  bkl   histo  80.0  male        scalp   \n",
       "1  HAM_0000118  ISIC_0025030  bkl   histo  80.0  male        scalp   \n",
       "2  HAM_0002730  ISIC_0026769  bkl   histo  80.0  male        scalp   \n",
       "3  HAM_0002730  ISIC_0025661  bkl   histo  80.0  male        scalp   \n",
       "4  HAM_0001466  ISIC_0031633  bkl   histo  75.0  male          ear   \n",
       "\n",
       "        dataset  \n",
       "0  vidir_modern  \n",
       "1  vidir_modern  \n",
       "2  vidir_modern  \n",
       "3  vidir_modern  \n",
       "4  vidir_modern  "
      ]
     },
     "execution_count": 90,
     "metadata": {},
     "output_type": "execute_result"
    }
   ],
   "source": [
    "data.head()"
   ]
  },
  {
   "cell_type": "code",
   "execution_count": 91,
   "id": "65da3a2f",
   "metadata": {},
   "outputs": [
    {
     "data": {
      "text/html": [
       "<div>\n",
       "<style scoped>\n",
       "    .dataframe tbody tr th:only-of-type {\n",
       "        vertical-align: middle;\n",
       "    }\n",
       "\n",
       "    .dataframe tbody tr th {\n",
       "        vertical-align: top;\n",
       "    }\n",
       "\n",
       "    .dataframe thead th {\n",
       "        text-align: right;\n",
       "    }\n",
       "</style>\n",
       "<table border=\"1\" class=\"dataframe\">\n",
       "  <thead>\n",
       "    <tr style=\"text-align: right;\">\n",
       "      <th></th>\n",
       "      <th>lesion_id</th>\n",
       "      <th>image_id</th>\n",
       "      <th>dx</th>\n",
       "      <th>dx_type</th>\n",
       "      <th>sex</th>\n",
       "      <th>localization</th>\n",
       "      <th>dataset</th>\n",
       "    </tr>\n",
       "  </thead>\n",
       "  <tbody>\n",
       "    <tr>\n",
       "      <th>count</th>\n",
       "      <td>10015</td>\n",
       "      <td>10015</td>\n",
       "      <td>10015</td>\n",
       "      <td>10015</td>\n",
       "      <td>10015</td>\n",
       "      <td>10015</td>\n",
       "      <td>10015</td>\n",
       "    </tr>\n",
       "    <tr>\n",
       "      <th>unique</th>\n",
       "      <td>7470</td>\n",
       "      <td>10015</td>\n",
       "      <td>7</td>\n",
       "      <td>4</td>\n",
       "      <td>3</td>\n",
       "      <td>15</td>\n",
       "      <td>4</td>\n",
       "    </tr>\n",
       "    <tr>\n",
       "      <th>top</th>\n",
       "      <td>HAM_0003789</td>\n",
       "      <td>ISIC_0027419</td>\n",
       "      <td>nv</td>\n",
       "      <td>histo</td>\n",
       "      <td>male</td>\n",
       "      <td>back</td>\n",
       "      <td>vidir_molemax</td>\n",
       "    </tr>\n",
       "    <tr>\n",
       "      <th>freq</th>\n",
       "      <td>6</td>\n",
       "      <td>1</td>\n",
       "      <td>6705</td>\n",
       "      <td>5340</td>\n",
       "      <td>5406</td>\n",
       "      <td>2192</td>\n",
       "      <td>3954</td>\n",
       "    </tr>\n",
       "  </tbody>\n",
       "</table>\n",
       "</div>"
      ],
      "text/plain": [
       "          lesion_id      image_id     dx dx_type    sex localization  \\\n",
       "count         10015         10015  10015   10015  10015        10015   \n",
       "unique         7470         10015      7       4      3           15   \n",
       "top     HAM_0003789  ISIC_0027419     nv   histo   male         back   \n",
       "freq              6             1   6705    5340   5406         2192   \n",
       "\n",
       "              dataset  \n",
       "count           10015  \n",
       "unique              4  \n",
       "top     vidir_molemax  \n",
       "freq             3954  "
      ]
     },
     "execution_count": 91,
     "metadata": {},
     "output_type": "execute_result"
    }
   ],
   "source": [
    "data.describe(exclude=[np.number])"
   ]
  },
  {
   "cell_type": "code",
   "execution_count": 92,
   "id": "afd93cdc",
   "metadata": {},
   "outputs": [
    {
     "data": {
      "text/plain": [
       "1"
      ]
     },
     "execution_count": 92,
     "metadata": {},
     "output_type": "execute_result"
    }
   ],
   "source": [
    "data.isnull().any().sum()"
   ]
  },
  {
   "cell_type": "code",
   "execution_count": 93,
   "id": "c31fc48b",
   "metadata": {},
   "outputs": [],
   "source": [
    "# Handling null values\n",
    "data['age'].fillna(value=int(data['age'].mean()), inplace=True)\n",
    "# Converting dtype of age to int32\n",
    "data['age'] = data['age'].astype('int32')"
   ]
  },
  {
   "cell_type": "code",
   "execution_count": 94,
   "id": "d15678ba",
   "metadata": {},
   "outputs": [],
   "source": [
    "# Adding cell_type and image_path columns\n",
    "data['cell_type'] = data['dx'].map(lesion_type_dict.get)\n",
    "data['path'] = data['image_id'].map(imageid_path_dict.get)"
   ]
  },
  {
   "cell_type": "code",
   "execution_count": 95,
   "id": "4a8bd1e5",
   "metadata": {},
   "outputs": [
    {
     "data": {
      "text/html": [
       "<div>\n",
       "<style scoped>\n",
       "    .dataframe tbody tr th:only-of-type {\n",
       "        vertical-align: middle;\n",
       "    }\n",
       "\n",
       "    .dataframe tbody tr th {\n",
       "        vertical-align: top;\n",
       "    }\n",
       "\n",
       "    .dataframe thead th {\n",
       "        text-align: right;\n",
       "    }\n",
       "</style>\n",
       "<table border=\"1\" class=\"dataframe\">\n",
       "  <thead>\n",
       "    <tr style=\"text-align: right;\">\n",
       "      <th></th>\n",
       "      <th>lesion_id</th>\n",
       "      <th>image_id</th>\n",
       "      <th>dx</th>\n",
       "      <th>dx_type</th>\n",
       "      <th>age</th>\n",
       "      <th>sex</th>\n",
       "      <th>localization</th>\n",
       "      <th>dataset</th>\n",
       "      <th>cell_type</th>\n",
       "      <th>path</th>\n",
       "    </tr>\n",
       "  </thead>\n",
       "  <tbody>\n",
       "    <tr>\n",
       "      <th>0</th>\n",
       "      <td>HAM_0000118</td>\n",
       "      <td>ISIC_0027419</td>\n",
       "      <td>bkl</td>\n",
       "      <td>histo</td>\n",
       "      <td>80</td>\n",
       "      <td>male</td>\n",
       "      <td>scalp</td>\n",
       "      <td>vidir_modern</td>\n",
       "      <td>Benign keratosis-like lesions (bkl)</td>\n",
       "      <td>E:\\input\\HAM10000_images_part_1\\ISIC_0027419.jpg</td>\n",
       "    </tr>\n",
       "    <tr>\n",
       "      <th>1</th>\n",
       "      <td>HAM_0000118</td>\n",
       "      <td>ISIC_0025030</td>\n",
       "      <td>bkl</td>\n",
       "      <td>histo</td>\n",
       "      <td>80</td>\n",
       "      <td>male</td>\n",
       "      <td>scalp</td>\n",
       "      <td>vidir_modern</td>\n",
       "      <td>Benign keratosis-like lesions (bkl)</td>\n",
       "      <td>E:\\input\\HAM10000_images_part_1\\ISIC_0025030.jpg</td>\n",
       "    </tr>\n",
       "    <tr>\n",
       "      <th>2</th>\n",
       "      <td>HAM_0002730</td>\n",
       "      <td>ISIC_0026769</td>\n",
       "      <td>bkl</td>\n",
       "      <td>histo</td>\n",
       "      <td>80</td>\n",
       "      <td>male</td>\n",
       "      <td>scalp</td>\n",
       "      <td>vidir_modern</td>\n",
       "      <td>Benign keratosis-like lesions (bkl)</td>\n",
       "      <td>E:\\input\\HAM10000_images_part_1\\ISIC_0026769.jpg</td>\n",
       "    </tr>\n",
       "    <tr>\n",
       "      <th>3</th>\n",
       "      <td>HAM_0002730</td>\n",
       "      <td>ISIC_0025661</td>\n",
       "      <td>bkl</td>\n",
       "      <td>histo</td>\n",
       "      <td>80</td>\n",
       "      <td>male</td>\n",
       "      <td>scalp</td>\n",
       "      <td>vidir_modern</td>\n",
       "      <td>Benign keratosis-like lesions (bkl)</td>\n",
       "      <td>E:\\input\\HAM10000_images_part_1\\ISIC_0025661.jpg</td>\n",
       "    </tr>\n",
       "    <tr>\n",
       "      <th>4</th>\n",
       "      <td>HAM_0001466</td>\n",
       "      <td>ISIC_0031633</td>\n",
       "      <td>bkl</td>\n",
       "      <td>histo</td>\n",
       "      <td>75</td>\n",
       "      <td>male</td>\n",
       "      <td>ear</td>\n",
       "      <td>vidir_modern</td>\n",
       "      <td>Benign keratosis-like lesions (bkl)</td>\n",
       "      <td>E:\\input\\HAM10000_images_part_2\\ISIC_0031633.jpg</td>\n",
       "    </tr>\n",
       "  </tbody>\n",
       "</table>\n",
       "</div>"
      ],
      "text/plain": [
       "     lesion_id      image_id   dx dx_type  age   sex localization  \\\n",
       "0  HAM_0000118  ISIC_0027419  bkl   histo   80  male        scalp   \n",
       "1  HAM_0000118  ISIC_0025030  bkl   histo   80  male        scalp   \n",
       "2  HAM_0002730  ISIC_0026769  bkl   histo   80  male        scalp   \n",
       "3  HAM_0002730  ISIC_0025661  bkl   histo   80  male        scalp   \n",
       "4  HAM_0001466  ISIC_0031633  bkl   histo   75  male          ear   \n",
       "\n",
       "        dataset                            cell_type  \\\n",
       "0  vidir_modern  Benign keratosis-like lesions (bkl)   \n",
       "1  vidir_modern  Benign keratosis-like lesions (bkl)   \n",
       "2  vidir_modern  Benign keratosis-like lesions (bkl)   \n",
       "3  vidir_modern  Benign keratosis-like lesions (bkl)   \n",
       "4  vidir_modern  Benign keratosis-like lesions (bkl)   \n",
       "\n",
       "                                               path  \n",
       "0  E:\\input\\HAM10000_images_part_1\\ISIC_0027419.jpg  \n",
       "1  E:\\input\\HAM10000_images_part_1\\ISIC_0025030.jpg  \n",
       "2  E:\\input\\HAM10000_images_part_1\\ISIC_0026769.jpg  \n",
       "3  E:\\input\\HAM10000_images_part_1\\ISIC_0025661.jpg  \n",
       "4  E:\\input\\HAM10000_images_part_2\\ISIC_0031633.jpg  "
      ]
     },
     "execution_count": 95,
     "metadata": {},
     "output_type": "execute_result"
    }
   ],
   "source": [
    "data.head()"
   ]
  },
  {
   "cell_type": "code",
   "execution_count": 96,
   "id": "91c77ca1",
   "metadata": {},
   "outputs": [],
   "source": [
    "# Adding image pixels\n",
    "data['image_pixel'] = data['path'].map(lambda x: np.asarray(Image.open(x).resize((28,28))))"
   ]
  },
  {
   "cell_type": "code",
   "execution_count": 97,
   "id": "1049ccaa",
   "metadata": {},
   "outputs": [
    {
     "data": {
      "text/html": [
       "<div>\n",
       "<style scoped>\n",
       "    .dataframe tbody tr th:only-of-type {\n",
       "        vertical-align: middle;\n",
       "    }\n",
       "\n",
       "    .dataframe tbody tr th {\n",
       "        vertical-align: top;\n",
       "    }\n",
       "\n",
       "    .dataframe thead th {\n",
       "        text-align: right;\n",
       "    }\n",
       "</style>\n",
       "<table border=\"1\" class=\"dataframe\">\n",
       "  <thead>\n",
       "    <tr style=\"text-align: right;\">\n",
       "      <th></th>\n",
       "      <th>lesion_id</th>\n",
       "      <th>image_id</th>\n",
       "      <th>dx</th>\n",
       "      <th>dx_type</th>\n",
       "      <th>age</th>\n",
       "      <th>sex</th>\n",
       "      <th>localization</th>\n",
       "      <th>dataset</th>\n",
       "      <th>cell_type</th>\n",
       "      <th>path</th>\n",
       "      <th>image_pixel</th>\n",
       "    </tr>\n",
       "  </thead>\n",
       "  <tbody>\n",
       "    <tr>\n",
       "      <th>0</th>\n",
       "      <td>HAM_0000118</td>\n",
       "      <td>ISIC_0027419</td>\n",
       "      <td>bkl</td>\n",
       "      <td>histo</td>\n",
       "      <td>80</td>\n",
       "      <td>male</td>\n",
       "      <td>scalp</td>\n",
       "      <td>vidir_modern</td>\n",
       "      <td>Benign keratosis-like lesions (bkl)</td>\n",
       "      <td>E:\\input\\HAM10000_images_part_1\\ISIC_0027419.jpg</td>\n",
       "      <td>[[[192, 153, 193], [195, 155, 192], [197, 154,...</td>\n",
       "    </tr>\n",
       "    <tr>\n",
       "      <th>1</th>\n",
       "      <td>HAM_0000118</td>\n",
       "      <td>ISIC_0025030</td>\n",
       "      <td>bkl</td>\n",
       "      <td>histo</td>\n",
       "      <td>80</td>\n",
       "      <td>male</td>\n",
       "      <td>scalp</td>\n",
       "      <td>vidir_modern</td>\n",
       "      <td>Benign keratosis-like lesions (bkl)</td>\n",
       "      <td>E:\\input\\HAM10000_images_part_1\\ISIC_0025030.jpg</td>\n",
       "      <td>[[[27, 16, 32], [69, 49, 76], [122, 93, 126], ...</td>\n",
       "    </tr>\n",
       "    <tr>\n",
       "      <th>2</th>\n",
       "      <td>HAM_0002730</td>\n",
       "      <td>ISIC_0026769</td>\n",
       "      <td>bkl</td>\n",
       "      <td>histo</td>\n",
       "      <td>80</td>\n",
       "      <td>male</td>\n",
       "      <td>scalp</td>\n",
       "      <td>vidir_modern</td>\n",
       "      <td>Benign keratosis-like lesions (bkl)</td>\n",
       "      <td>E:\\input\\HAM10000_images_part_1\\ISIC_0026769.jpg</td>\n",
       "      <td>[[[192, 138, 153], [200, 144, 162], [202, 142,...</td>\n",
       "    </tr>\n",
       "    <tr>\n",
       "      <th>3</th>\n",
       "      <td>HAM_0002730</td>\n",
       "      <td>ISIC_0025661</td>\n",
       "      <td>bkl</td>\n",
       "      <td>histo</td>\n",
       "      <td>80</td>\n",
       "      <td>male</td>\n",
       "      <td>scalp</td>\n",
       "      <td>vidir_modern</td>\n",
       "      <td>Benign keratosis-like lesions (bkl)</td>\n",
       "      <td>E:\\input\\HAM10000_images_part_1\\ISIC_0025661.jpg</td>\n",
       "      <td>[[[40, 21, 31], [95, 61, 73], [143, 102, 118],...</td>\n",
       "    </tr>\n",
       "    <tr>\n",
       "      <th>4</th>\n",
       "      <td>HAM_0001466</td>\n",
       "      <td>ISIC_0031633</td>\n",
       "      <td>bkl</td>\n",
       "      <td>histo</td>\n",
       "      <td>75</td>\n",
       "      <td>male</td>\n",
       "      <td>ear</td>\n",
       "      <td>vidir_modern</td>\n",
       "      <td>Benign keratosis-like lesions (bkl)</td>\n",
       "      <td>E:\\input\\HAM10000_images_part_2\\ISIC_0031633.jpg</td>\n",
       "      <td>[[[159, 114, 140], [194, 144, 173], [215, 162,...</td>\n",
       "    </tr>\n",
       "  </tbody>\n",
       "</table>\n",
       "</div>"
      ],
      "text/plain": [
       "     lesion_id      image_id   dx dx_type  age   sex localization  \\\n",
       "0  HAM_0000118  ISIC_0027419  bkl   histo   80  male        scalp   \n",
       "1  HAM_0000118  ISIC_0025030  bkl   histo   80  male        scalp   \n",
       "2  HAM_0002730  ISIC_0026769  bkl   histo   80  male        scalp   \n",
       "3  HAM_0002730  ISIC_0025661  bkl   histo   80  male        scalp   \n",
       "4  HAM_0001466  ISIC_0031633  bkl   histo   75  male          ear   \n",
       "\n",
       "        dataset                            cell_type  \\\n",
       "0  vidir_modern  Benign keratosis-like lesions (bkl)   \n",
       "1  vidir_modern  Benign keratosis-like lesions (bkl)   \n",
       "2  vidir_modern  Benign keratosis-like lesions (bkl)   \n",
       "3  vidir_modern  Benign keratosis-like lesions (bkl)   \n",
       "4  vidir_modern  Benign keratosis-like lesions (bkl)   \n",
       "\n",
       "                                               path  \\\n",
       "0  E:\\input\\HAM10000_images_part_1\\ISIC_0027419.jpg   \n",
       "1  E:\\input\\HAM10000_images_part_1\\ISIC_0025030.jpg   \n",
       "2  E:\\input\\HAM10000_images_part_1\\ISIC_0026769.jpg   \n",
       "3  E:\\input\\HAM10000_images_part_1\\ISIC_0025661.jpg   \n",
       "4  E:\\input\\HAM10000_images_part_2\\ISIC_0031633.jpg   \n",
       "\n",
       "                                         image_pixel  \n",
       "0  [[[192, 153, 193], [195, 155, 192], [197, 154,...  \n",
       "1  [[[27, 16, 32], [69, 49, 76], [122, 93, 126], ...  \n",
       "2  [[[192, 138, 153], [200, 144, 162], [202, 142,...  \n",
       "3  [[[40, 21, 31], [95, 61, 73], [143, 102, 118],...  \n",
       "4  [[[159, 114, 140], [194, 144, 173], [215, 162,...  "
      ]
     },
     "execution_count": 97,
     "metadata": {},
     "output_type": "execute_result"
    }
   ],
   "source": [
    "data.head(5)"
   ]
  },
  {
   "cell_type": "code",
   "execution_count": 98,
   "id": "88cf5d8a",
   "metadata": {},
   "outputs": [],
   "source": [
    "data['label'] = data['dx'].map(reverse_label_mapping.get)\n",
    "\n",
    "data = data.sort_values('label')\n",
    "data = data.reset_index()"
   ]
  },
  {
   "cell_type": "code",
   "execution_count": 99,
   "id": "4b20fbf9",
   "metadata": {},
   "outputs": [],
   "source": [
    "counter = 0\n",
    "frames = [data]\n",
    "for i in [4,4,11,17,45,52]:\n",
    "    counter+=1\n",
    "    index = data[data['label'] == counter].index.values\n",
    "    df_index = data.iloc[int(min(index)):int(max(index)+1)]\n",
    "    df_index = df_index.append([df_index]*i, ignore_index = True)\n",
    "    frames.append(df_index)\n",
    "    "
   ]
  },
  {
   "cell_type": "code",
   "execution_count": 100,
   "id": "d2f40253",
   "metadata": {},
   "outputs": [
    {
     "data": {
      "text/plain": [
       "7"
      ]
     },
     "execution_count": 100,
     "metadata": {},
     "output_type": "execute_result"
    }
   ],
   "source": [
    "len(frames)"
   ]
  },
  {
   "cell_type": "code",
   "execution_count": 101,
   "id": "fa03b517",
   "metadata": {},
   "outputs": [],
   "source": [
    "final_data = pd.concat(frames)"
   ]
  },
  {
   "cell_type": "code",
   "execution_count": 102,
   "id": "3ba33243",
   "metadata": {},
   "outputs": [
    {
     "name": "stdout",
     "output_type": "stream",
     "text": [
      "(10015, 13)\n",
      "(45756, 13)\n"
     ]
    }
   ],
   "source": [
    "print(data.shape)\n",
    "print(final_data.shape)"
   ]
  },
  {
   "cell_type": "code",
   "execution_count": 103,
   "id": "75f41ebf",
   "metadata": {},
   "outputs": [
    {
     "name": "stdout",
     "output_type": "stream",
     "text": [
      "(10015, 28, 28, 3)\n",
      "(10015, 1)\n"
     ]
    }
   ],
   "source": [
    "# ORIGINAL DATA\n",
    "# Converting image pixel columnm into required format\n",
    "X_orig = data['image_pixel'].to_numpy()\n",
    "X_orig = np.stack(X_orig, axis=0)\n",
    "Y_orig = np.array(data.iloc[:, -1:])\n",
    "print(X_orig.shape)\n",
    "print(Y_orig.shape)"
   ]
  },
  {
   "cell_type": "code",
   "execution_count": 104,
   "id": "895a499c",
   "metadata": {},
   "outputs": [
    {
     "name": "stdout",
     "output_type": "stream",
     "text": [
      "(45756, 28, 28, 3)\n",
      "(45756, 1)\n"
     ]
    }
   ],
   "source": [
    "# AUGMENTED DATA\n",
    "# Converting image pixel columnm into required format\n",
    "X_aug = final_data['image_pixel'].to_numpy()\n",
    "X_aug = np.stack(X_aug, axis=0)\n",
    "Y_aug = np.array(final_data.iloc[:, -1:])\n",
    "print(X_aug.shape)\n",
    "print(Y_aug.shape)"
   ]
  },
  {
   "cell_type": "code",
   "execution_count": 105,
   "id": "6a00ae0e",
   "metadata": {},
   "outputs": [],
   "source": [
    "# For Original Dataset\n",
    "X_train_orig, X_test_orig, Y_train_orig, Y_test_orig = prepare_for_train_test(X_orig, Y_orig)"
   ]
  },
  {
   "cell_type": "code",
   "execution_count": 106,
   "id": "29729a93",
   "metadata": {},
   "outputs": [
    {
     "name": "stdout",
     "output_type": "stream",
     "text": [
      "Model: \"sequential_2\"\n",
      "_________________________________________________________________\n",
      " Layer (type)                Output Shape              Param #   \n",
      "=================================================================\n",
      " conv2d_10 (Conv2D)          (None, 7, 7, 96)          34944     \n",
      "                                                                 \n",
      " batch_normalization_18 (Bat  (None, 7, 7, 96)         384       \n",
      " chNormalization)                                                \n",
      "                                                                 \n",
      " activation_18 (Activation)  (None, 7, 7, 96)          0         \n",
      "                                                                 \n",
      " max_pooling2d_6 (MaxPooling  (None, 4, 4, 96)         0         \n",
      " 2D)                                                             \n",
      "                                                                 \n",
      " conv2d_11 (Conv2D)          (None, 4, 4, 256)         614656    \n",
      "                                                                 \n",
      " batch_normalization_19 (Bat  (None, 4, 4, 256)        1024      \n",
      " chNormalization)                                                \n",
      "                                                                 \n",
      " activation_19 (Activation)  (None, 4, 4, 256)         0         \n",
      "                                                                 \n",
      " max_pooling2d_7 (MaxPooling  (None, 2, 2, 256)        0         \n",
      " 2D)                                                             \n",
      "                                                                 \n",
      " conv2d_12 (Conv2D)          (None, 2, 2, 384)         885120    \n",
      "                                                                 \n",
      " batch_normalization_20 (Bat  (None, 2, 2, 384)        1536      \n",
      " chNormalization)                                                \n",
      "                                                                 \n",
      " activation_20 (Activation)  (None, 2, 2, 384)         0         \n",
      "                                                                 \n",
      " conv2d_13 (Conv2D)          (None, 2, 2, 384)         1327488   \n",
      "                                                                 \n",
      " batch_normalization_21 (Bat  (None, 2, 2, 384)        1536      \n",
      " chNormalization)                                                \n",
      "                                                                 \n",
      " activation_21 (Activation)  (None, 2, 2, 384)         0         \n",
      "                                                                 \n",
      " conv2d_14 (Conv2D)          (None, 2, 2, 256)         884992    \n",
      "                                                                 \n",
      " batch_normalization_22 (Bat  (None, 2, 2, 256)        1024      \n",
      " chNormalization)                                                \n",
      "                                                                 \n",
      " activation_22 (Activation)  (None, 2, 2, 256)         0         \n",
      "                                                                 \n",
      " max_pooling2d_8 (MaxPooling  (None, 1, 1, 256)        0         \n",
      " 2D)                                                             \n",
      "                                                                 \n",
      " flatten_2 (Flatten)         (None, 256)               0         \n",
      "                                                                 \n",
      " dense_8 (Dense)             (None, 4096)              1052672   \n",
      "                                                                 \n",
      " batch_normalization_23 (Bat  (None, 4096)             16384     \n",
      " chNormalization)                                                \n",
      "                                                                 \n",
      " activation_23 (Activation)  (None, 4096)              0         \n",
      "                                                                 \n",
      " dropout_6 (Dropout)         (None, 4096)              0         \n",
      "                                                                 \n",
      " dense_9 (Dense)             (None, 4096)              16781312  \n",
      "                                                                 \n",
      " batch_normalization_24 (Bat  (None, 4096)             16384     \n",
      " chNormalization)                                                \n",
      "                                                                 \n",
      " activation_24 (Activation)  (None, 4096)              0         \n",
      "                                                                 \n",
      " dropout_7 (Dropout)         (None, 4096)              0         \n",
      "                                                                 \n",
      " dense_10 (Dense)            (None, 1000)              4097000   \n",
      "                                                                 \n",
      " batch_normalization_25 (Bat  (None, 1000)             4000      \n",
      " chNormalization)                                                \n",
      "                                                                 \n",
      " activation_25 (Activation)  (None, 1000)              0         \n",
      "                                                                 \n",
      " dropout_8 (Dropout)         (None, 1000)              0         \n",
      "                                                                 \n",
      " dense_11 (Dense)            (None, 7)                 7007      \n",
      "                                                                 \n",
      " batch_normalization_26 (Bat  (None, 7)                28        \n",
      " chNormalization)                                                \n",
      "                                                                 \n",
      " activation_26 (Activation)  (None, 7)                 0         \n",
      "                                                                 \n",
      "=================================================================\n",
      "Total params: 25,727,491\n",
      "Trainable params: 25,706,341\n",
      "Non-trainable params: 21,150\n",
      "_________________________________________________________________\n",
      "None\n"
     ]
    }
   ],
   "source": [
    "model =create_model()"
   ]
  },
  {
   "cell_type": "code",
   "execution_count": 107,
   "id": "f11d5cef",
   "metadata": {},
   "outputs": [],
   "source": [
    "X_train_aug, X_test_aug, Y_train_aug, Y_test_aug = prepare_for_train_test(X_aug, Y_aug)"
   ]
  },
  {
   "cell_type": "code",
   "execution_count": 108,
   "id": "714b74fe",
   "metadata": {},
   "outputs": [
    {
     "name": "stdout",
     "output_type": "stream",
     "text": [
      "Epoch 1/50\n",
      "458/458 [==============================] - 346s 747ms/step - loss: 1.1320 - accuracy: 0.5951 - val_loss: 2.6876 - val_accuracy: 0.3179 - lr: 0.0010\n",
      "Epoch 2/50\n",
      "458/458 [==============================] - 347s 758ms/step - loss: 0.8069 - accuracy: 0.7260 - val_loss: 1.9822 - val_accuracy: 0.3139 - lr: 0.0010\n",
      "Epoch 3/50\n",
      "458/458 [==============================] - 346s 756ms/step - loss: 0.6519 - accuracy: 0.7782 - val_loss: 2.6293 - val_accuracy: 0.1660 - lr: 0.0010\n",
      "Epoch 4/50\n",
      "458/458 [==============================] - 345s 753ms/step - loss: 0.5471 - accuracy: 0.8140 - val_loss: 1.5854 - val_accuracy: 0.4499 - lr: 0.0010\n",
      "Epoch 5/50\n",
      "458/458 [==============================] - 362s 790ms/step - loss: 0.4740 - accuracy: 0.8357 - val_loss: 1.5871 - val_accuracy: 0.4941 - lr: 0.0010\n",
      "Epoch 6/50\n",
      "458/458 [==============================] - 358s 782ms/step - loss: 0.4177 - accuracy: 0.8559 - val_loss: 2.6994 - val_accuracy: 0.2079 - lr: 0.0010\n",
      "Epoch 7/50\n",
      "458/458 [==============================] - 355s 775ms/step - loss: 0.3724 - accuracy: 0.8721 - val_loss: 1.3077 - val_accuracy: 0.5490 - lr: 0.0010\n",
      "Epoch 8/50\n",
      "458/458 [==============================] - 357s 778ms/step - loss: 0.3367 - accuracy: 0.8829 - val_loss: 2.2872 - val_accuracy: 0.3819 - lr: 0.0010\n",
      "Epoch 9/50\n",
      "458/458 [==============================] - 355s 775ms/step - loss: 0.3137 - accuracy: 0.8914 - val_loss: 1.4332 - val_accuracy: 0.5766 - lr: 0.0010\n",
      "Epoch 10/50\n",
      "458/458 [==============================] - ETA: 0s - loss: 0.2739 - accuracy: 0.9037\n",
      "Epoch 10: ReduceLROnPlateau reducing learning rate to 0.00010000000474974513.\n",
      "458/458 [==============================] - 356s 778ms/step - loss: 0.2739 - accuracy: 0.9037 - val_loss: 2.3641 - val_accuracy: 0.3621 - lr: 0.0010\n",
      "Epoch 11/50\n",
      "458/458 [==============================] - 358s 782ms/step - loss: 0.1833 - accuracy: 0.9387 - val_loss: 0.1875 - val_accuracy: 0.9348 - lr: 1.0000e-04\n",
      "Epoch 12/50\n",
      "458/458 [==============================] - 349s 762ms/step - loss: 0.1489 - accuracy: 0.9533 - val_loss: 0.2483 - val_accuracy: 0.8980 - lr: 1.0000e-04\n",
      "Epoch 13/50\n",
      "458/458 [==============================] - 351s 765ms/step - loss: 0.1340 - accuracy: 0.9584 - val_loss: 0.1680 - val_accuracy: 0.9492 - lr: 1.0000e-04\n",
      "Epoch 14/50\n",
      "458/458 [==============================] - 331s 722ms/step - loss: 0.1278 - accuracy: 0.9597 - val_loss: 0.1841 - val_accuracy: 0.9454 - lr: 1.0000e-04\n",
      "Epoch 15/50\n",
      "458/458 [==============================] - 286s 625ms/step - loss: 0.1137 - accuracy: 0.9664 - val_loss: 0.2161 - val_accuracy: 0.9187 - lr: 1.0000e-04\n",
      "Epoch 16/50\n",
      "458/458 [==============================] - 288s 630ms/step - loss: 0.1064 - accuracy: 0.9688 - val_loss: 0.1636 - val_accuracy: 0.9530 - lr: 1.0000e-04\n",
      "Epoch 17/50\n",
      "458/458 [==============================] - 288s 628ms/step - loss: 0.0933 - accuracy: 0.9743 - val_loss: 0.1744 - val_accuracy: 0.9511 - lr: 1.0000e-04\n",
      "Epoch 18/50\n",
      "458/458 [==============================] - 287s 626ms/step - loss: 0.0880 - accuracy: 0.9747 - val_loss: 0.1526 - val_accuracy: 0.9519 - lr: 1.0000e-04\n",
      "Epoch 19/50\n",
      "458/458 [==============================] - 288s 628ms/step - loss: 0.0780 - accuracy: 0.9794 - val_loss: 0.3165 - val_accuracy: 0.9027 - lr: 1.0000e-04\n",
      "Epoch 20/50\n",
      "458/458 [==============================] - 291s 635ms/step - loss: 0.0736 - accuracy: 0.9806 - val_loss: 0.2177 - val_accuracy: 0.9306 - lr: 1.0000e-04\n",
      "Epoch 21/50\n",
      "458/458 [==============================] - 288s 629ms/step - loss: 0.0685 - accuracy: 0.9822 - val_loss: 0.1356 - val_accuracy: 0.9643 - lr: 1.0000e-04\n",
      "Epoch 22/50\n",
      "458/458 [==============================] - 288s 629ms/step - loss: 0.0606 - accuracy: 0.9847 - val_loss: 0.1918 - val_accuracy: 0.9441 - lr: 1.0000e-04\n",
      "Epoch 23/50\n",
      "458/458 [==============================] - 288s 628ms/step - loss: 0.0570 - accuracy: 0.9861 - val_loss: 0.1391 - val_accuracy: 0.9634 - lr: 1.0000e-04\n",
      "Epoch 24/50\n",
      "458/458 [==============================] - ETA: 0s - loss: 0.0513 - accuracy: 0.9879\n",
      "Epoch 24: ReduceLROnPlateau reducing learning rate to 1.0000000474974514e-05.\n",
      "458/458 [==============================] - 290s 633ms/step - loss: 0.0513 - accuracy: 0.9879 - val_loss: 0.1839 - val_accuracy: 0.9346 - lr: 1.0000e-04\n",
      "Epoch 25/50\n",
      "458/458 [==============================] - 288s 630ms/step - loss: 0.0384 - accuracy: 0.9923 - val_loss: 0.1010 - val_accuracy: 0.9765 - lr: 1.0000e-05\n",
      "Epoch 26/50\n",
      "458/458 [==============================] - 287s 627ms/step - loss: 0.0348 - accuracy: 0.9938 - val_loss: 0.1108 - val_accuracy: 0.9739 - lr: 1.0000e-05\n",
      "Epoch 27/50\n",
      "458/458 [==============================] - 287s 626ms/step - loss: 0.0341 - accuracy: 0.9939 - val_loss: 0.1137 - val_accuracy: 0.9730 - lr: 1.0000e-05\n",
      "Epoch 28/50\n",
      "458/458 [==============================] - ETA: 0s - loss: 0.0311 - accuracy: 0.9949\n",
      "Epoch 28: ReduceLROnPlateau reducing learning rate to 1.0000000656873453e-06.\n",
      "458/458 [==============================] - 288s 630ms/step - loss: 0.0311 - accuracy: 0.9949 - val_loss: 0.1157 - val_accuracy: 0.9730 - lr: 1.0000e-05\n",
      "Epoch 29/50\n",
      "458/458 [==============================] - 287s 626ms/step - loss: 0.0320 - accuracy: 0.9946 - val_loss: 0.1065 - val_accuracy: 0.9755 - lr: 1.0000e-06\n",
      "Epoch 30/50\n",
      "458/458 [==============================] - 288s 628ms/step - loss: 0.0297 - accuracy: 0.9955 - val_loss: 0.1039 - val_accuracy: 0.9751 - lr: 1.0000e-06\n",
      "Epoch 31/50\n",
      "458/458 [==============================] - ETA: 0s - loss: 0.0294 - accuracy: 0.9957\n",
      "Epoch 31: ReduceLROnPlateau reducing learning rate to 1.0000001111620805e-07.\n",
      "458/458 [==============================] - 288s 628ms/step - loss: 0.0294 - accuracy: 0.9957 - val_loss: 0.1055 - val_accuracy: 0.9753 - lr: 1.0000e-06\n",
      "Epoch 32/50\n",
      "458/458 [==============================] - 288s 628ms/step - loss: 0.0294 - accuracy: 0.9959 - val_loss: 0.1042 - val_accuracy: 0.9753 - lr: 1.0000e-07\n",
      "Epoch 33/50\n",
      "458/458 [==============================] - 290s 632ms/step - loss: 0.0301 - accuracy: 0.9956 - val_loss: 0.1046 - val_accuracy: 0.9754 - lr: 1.0000e-07\n",
      "Epoch 34/50\n",
      "458/458 [==============================] - ETA: 0s - loss: 0.0299 - accuracy: 0.9955\n",
      "Epoch 34: ReduceLROnPlateau reducing learning rate to 1.000000082740371e-08.\n",
      "458/458 [==============================] - 289s 631ms/step - loss: 0.0299 - accuracy: 0.9955 - val_loss: 0.1040 - val_accuracy: 0.9755 - lr: 1.0000e-07\n",
      "Epoch 35/50\n",
      "458/458 [==============================] - 288s 630ms/step - loss: 0.0302 - accuracy: 0.9954 - val_loss: 0.1031 - val_accuracy: 0.9755 - lr: 1.0000e-08\n",
      "Epoch 35: early stopping\n"
     ]
    }
   ],
   "source": [
    "model2_history = train_model(model, X_train_aug, Y_train_aug, 50)"
   ]
  },
  {
   "cell_type": "code",
   "execution_count": 111,
   "id": "dd54f02e",
   "metadata": {},
   "outputs": [],
   "source": [
    "model.save_weights(\"Skin_Cancer_alexnetnadam.hdf5\")\n"
   ]
  },
  {
   "cell_type": "code",
   "execution_count": 112,
   "id": "4a418f0b",
   "metadata": {},
   "outputs": [
    {
     "data": {
      "text/html": [
       "<a href='Skin_Cancer_alexnetnadam.hdf5' target='_blank'>Skin_Cancer_alexnetnadam.hdf5</a><br>"
      ],
      "text/plain": [
       "C:\\Users\\Lenovo\\Skin_Cancer_alexnetnadam.hdf5"
      ]
     },
     "execution_count": 112,
     "metadata": {},
     "output_type": "execute_result"
    }
   ],
   "source": [
    "from IPython.display import FileLink\n",
    "FileLink('Skin_Cancer_alexnetnadam.hdf5')"
   ]
  },
  {
   "cell_type": "code",
   "execution_count": 113,
   "id": "a7ce4bdc",
   "metadata": {},
   "outputs": [
    {
     "data": {
      "application/vnd.plotly.v1+json": {
       "config": {
        "plotlyServerURL": "https://plot.ly"
       },
       "data": [
        {
         "name": "train_acc",
         "type": "scatter",
         "xaxis": "x",
         "y": [
          0.5950551629066467,
          0.7259501814842224,
          0.778164803981781,
          0.8140217661857605,
          0.835740864276886,
          0.8558549284934998,
          0.8720759749412537,
          0.8829013705253601,
          0.8914045691490173,
          0.9036983847618103,
          0.9387016296386719,
          0.9533176422119141,
          0.9583717584609985,
          0.9597377181053162,
          0.966362714767456,
          0.9687532186508179,
          0.9742854237556458,
          0.9747293591499329,
          0.9793736934661865,
          0.9805689454078674,
          0.9822422862052917,
          0.9847351908683777,
          0.9861353039741516,
          0.9878769516944885,
          0.9922822117805481,
          0.9937847852706909,
          0.9938872456550598,
          0.9949458837509155,
          0.9946385025978088,
          0.9955264329910278,
          0.9956629872322083,
          0.995867908000946,
          0.9955947399139404,
          0.9954581260681152,
          0.9953898191452026
         ],
         "yaxis": "y"
        },
        {
         "name": "val_acc",
         "type": "scatter",
         "xaxis": "x",
         "y": [
          0.31785276532173157,
          0.31389153003692627,
          0.16596093773841858,
          0.4499385356903076,
          0.49405819177627563,
          0.20789510011672974,
          0.5489687323570251,
          0.38191503286361694,
          0.5765605568885803,
          0.3621090054512024,
          0.934844970703125,
          0.8979647755622864,
          0.9491872787475586,
          0.9453626275062561,
          0.918726921081543,
          0.9530118703842163,
          0.9510995745658875,
          0.9519191384315491,
          0.9027455449104309,
          0.9306105971336365,
          0.9643491506576538,
          0.9441333413124084,
          0.963392972946167,
          0.9345718026161194,
          0.9765059351921082,
          0.9739106893539429,
          0.972954511642456,
          0.972954511642456,
          0.9755498170852661,
          0.9751400351524353,
          0.9752765893936157,
          0.9752765893936157,
          0.9754132032394409,
          0.9755498170852661,
          0.9755498170852661
         ],
         "yaxis": "y"
        },
        {
         "name": "train_loss",
         "type": "scatter",
         "xaxis": "x2",
         "y": [
          1.1320102214813232,
          0.8069106340408325,
          0.6519196629524231,
          0.5471145510673523,
          0.47395166754722595,
          0.4176967144012451,
          0.3724498152732849,
          0.33668720722198486,
          0.31374895572662354,
          0.2739429473876953,
          0.18330834805965424,
          0.14885616302490234,
          0.13400547206401825,
          0.1278153955936432,
          0.11374349892139435,
          0.10639157891273499,
          0.09332092851400375,
          0.08795296400785446,
          0.07803355157375336,
          0.07359255850315094,
          0.06851467490196228,
          0.06059234216809273,
          0.05699944868683815,
          0.051270682364702225,
          0.038397613912820816,
          0.034792304039001465,
          0.034091558307409286,
          0.031065599992871284,
          0.03201163932681084,
          0.029735244810581207,
          0.02935688942670822,
          0.029410358518362045,
          0.030052749440073967,
          0.029877303168177605,
          0.03018139861524105
         ],
         "yaxis": "y2"
        },
        {
         "name": "val_loss",
         "type": "scatter",
         "xaxis": "x2",
         "y": [
          2.687612533569336,
          1.9821929931640625,
          2.6293251514434814,
          1.5853697061538696,
          1.5871001482009888,
          2.6994142532348633,
          1.3076578378677368,
          2.287205457687378,
          1.4332247972488403,
          2.3641068935394287,
          0.18750953674316406,
          0.2483046054840088,
          0.16797150671482086,
          0.1841292679309845,
          0.21614474058151245,
          0.16364648938179016,
          0.1743602156639099,
          0.15262500941753387,
          0.3165419101715088,
          0.21768593788146973,
          0.13555385172367096,
          0.1918409764766693,
          0.13907340168952942,
          0.18393710255622864,
          0.10097744315862656,
          0.11078072339296341,
          0.11366178095340729,
          0.1156579852104187,
          0.10645292699337006,
          0.10385186225175858,
          0.10551074147224426,
          0.1041538417339325,
          0.10461670160293579,
          0.10404551774263382,
          0.1031186431646347
         ],
         "yaxis": "y2"
        }
       ],
       "layout": {
        "annotations": [
         {
          "font": {
           "size": 16
          },
          "showarrow": false,
          "text": "Model Accuracy",
          "x": 0.225,
          "xanchor": "center",
          "xref": "paper",
          "y": 1,
          "yanchor": "bottom",
          "yref": "paper"
         },
         {
          "font": {
           "size": 16
          },
          "showarrow": false,
          "text": "Model Loss",
          "x": 0.775,
          "xanchor": "center",
          "xref": "paper",
          "y": 1,
          "yanchor": "bottom",
          "yref": "paper"
         }
        ],
        "template": {
         "data": {
          "bar": [
           {
            "error_x": {
             "color": "#2a3f5f"
            },
            "error_y": {
             "color": "#2a3f5f"
            },
            "marker": {
             "line": {
              "color": "#E5ECF6",
              "width": 0.5
             },
             "pattern": {
              "fillmode": "overlay",
              "size": 10,
              "solidity": 0.2
             }
            },
            "type": "bar"
           }
          ],
          "barpolar": [
           {
            "marker": {
             "line": {
              "color": "#E5ECF6",
              "width": 0.5
             },
             "pattern": {
              "fillmode": "overlay",
              "size": 10,
              "solidity": 0.2
             }
            },
            "type": "barpolar"
           }
          ],
          "carpet": [
           {
            "aaxis": {
             "endlinecolor": "#2a3f5f",
             "gridcolor": "white",
             "linecolor": "white",
             "minorgridcolor": "white",
             "startlinecolor": "#2a3f5f"
            },
            "baxis": {
             "endlinecolor": "#2a3f5f",
             "gridcolor": "white",
             "linecolor": "white",
             "minorgridcolor": "white",
             "startlinecolor": "#2a3f5f"
            },
            "type": "carpet"
           }
          ],
          "choropleth": [
           {
            "colorbar": {
             "outlinewidth": 0,
             "ticks": ""
            },
            "type": "choropleth"
           }
          ],
          "contour": [
           {
            "colorbar": {
             "outlinewidth": 0,
             "ticks": ""
            },
            "colorscale": [
             [
              0,
              "#0d0887"
             ],
             [
              0.1111111111111111,
              "#46039f"
             ],
             [
              0.2222222222222222,
              "#7201a8"
             ],
             [
              0.3333333333333333,
              "#9c179e"
             ],
             [
              0.4444444444444444,
              "#bd3786"
             ],
             [
              0.5555555555555556,
              "#d8576b"
             ],
             [
              0.6666666666666666,
              "#ed7953"
             ],
             [
              0.7777777777777778,
              "#fb9f3a"
             ],
             [
              0.8888888888888888,
              "#fdca26"
             ],
             [
              1,
              "#f0f921"
             ]
            ],
            "type": "contour"
           }
          ],
          "contourcarpet": [
           {
            "colorbar": {
             "outlinewidth": 0,
             "ticks": ""
            },
            "type": "contourcarpet"
           }
          ],
          "heatmap": [
           {
            "colorbar": {
             "outlinewidth": 0,
             "ticks": ""
            },
            "colorscale": [
             [
              0,
              "#0d0887"
             ],
             [
              0.1111111111111111,
              "#46039f"
             ],
             [
              0.2222222222222222,
              "#7201a8"
             ],
             [
              0.3333333333333333,
              "#9c179e"
             ],
             [
              0.4444444444444444,
              "#bd3786"
             ],
             [
              0.5555555555555556,
              "#d8576b"
             ],
             [
              0.6666666666666666,
              "#ed7953"
             ],
             [
              0.7777777777777778,
              "#fb9f3a"
             ],
             [
              0.8888888888888888,
              "#fdca26"
             ],
             [
              1,
              "#f0f921"
             ]
            ],
            "type": "heatmap"
           }
          ],
          "heatmapgl": [
           {
            "colorbar": {
             "outlinewidth": 0,
             "ticks": ""
            },
            "colorscale": [
             [
              0,
              "#0d0887"
             ],
             [
              0.1111111111111111,
              "#46039f"
             ],
             [
              0.2222222222222222,
              "#7201a8"
             ],
             [
              0.3333333333333333,
              "#9c179e"
             ],
             [
              0.4444444444444444,
              "#bd3786"
             ],
             [
              0.5555555555555556,
              "#d8576b"
             ],
             [
              0.6666666666666666,
              "#ed7953"
             ],
             [
              0.7777777777777778,
              "#fb9f3a"
             ],
             [
              0.8888888888888888,
              "#fdca26"
             ],
             [
              1,
              "#f0f921"
             ]
            ],
            "type": "heatmapgl"
           }
          ],
          "histogram": [
           {
            "marker": {
             "pattern": {
              "fillmode": "overlay",
              "size": 10,
              "solidity": 0.2
             }
            },
            "type": "histogram"
           }
          ],
          "histogram2d": [
           {
            "colorbar": {
             "outlinewidth": 0,
             "ticks": ""
            },
            "colorscale": [
             [
              0,
              "#0d0887"
             ],
             [
              0.1111111111111111,
              "#46039f"
             ],
             [
              0.2222222222222222,
              "#7201a8"
             ],
             [
              0.3333333333333333,
              "#9c179e"
             ],
             [
              0.4444444444444444,
              "#bd3786"
             ],
             [
              0.5555555555555556,
              "#d8576b"
             ],
             [
              0.6666666666666666,
              "#ed7953"
             ],
             [
              0.7777777777777778,
              "#fb9f3a"
             ],
             [
              0.8888888888888888,
              "#fdca26"
             ],
             [
              1,
              "#f0f921"
             ]
            ],
            "type": "histogram2d"
           }
          ],
          "histogram2dcontour": [
           {
            "colorbar": {
             "outlinewidth": 0,
             "ticks": ""
            },
            "colorscale": [
             [
              0,
              "#0d0887"
             ],
             [
              0.1111111111111111,
              "#46039f"
             ],
             [
              0.2222222222222222,
              "#7201a8"
             ],
             [
              0.3333333333333333,
              "#9c179e"
             ],
             [
              0.4444444444444444,
              "#bd3786"
             ],
             [
              0.5555555555555556,
              "#d8576b"
             ],
             [
              0.6666666666666666,
              "#ed7953"
             ],
             [
              0.7777777777777778,
              "#fb9f3a"
             ],
             [
              0.8888888888888888,
              "#fdca26"
             ],
             [
              1,
              "#f0f921"
             ]
            ],
            "type": "histogram2dcontour"
           }
          ],
          "mesh3d": [
           {
            "colorbar": {
             "outlinewidth": 0,
             "ticks": ""
            },
            "type": "mesh3d"
           }
          ],
          "parcoords": [
           {
            "line": {
             "colorbar": {
              "outlinewidth": 0,
              "ticks": ""
             }
            },
            "type": "parcoords"
           }
          ],
          "pie": [
           {
            "automargin": true,
            "type": "pie"
           }
          ],
          "scatter": [
           {
            "fillpattern": {
             "fillmode": "overlay",
             "size": 10,
             "solidity": 0.2
            },
            "type": "scatter"
           }
          ],
          "scatter3d": [
           {
            "line": {
             "colorbar": {
              "outlinewidth": 0,
              "ticks": ""
             }
            },
            "marker": {
             "colorbar": {
              "outlinewidth": 0,
              "ticks": ""
             }
            },
            "type": "scatter3d"
           }
          ],
          "scattercarpet": [
           {
            "marker": {
             "colorbar": {
              "outlinewidth": 0,
              "ticks": ""
             }
            },
            "type": "scattercarpet"
           }
          ],
          "scattergeo": [
           {
            "marker": {
             "colorbar": {
              "outlinewidth": 0,
              "ticks": ""
             }
            },
            "type": "scattergeo"
           }
          ],
          "scattergl": [
           {
            "marker": {
             "colorbar": {
              "outlinewidth": 0,
              "ticks": ""
             }
            },
            "type": "scattergl"
           }
          ],
          "scattermapbox": [
           {
            "marker": {
             "colorbar": {
              "outlinewidth": 0,
              "ticks": ""
             }
            },
            "type": "scattermapbox"
           }
          ],
          "scatterpolar": [
           {
            "marker": {
             "colorbar": {
              "outlinewidth": 0,
              "ticks": ""
             }
            },
            "type": "scatterpolar"
           }
          ],
          "scatterpolargl": [
           {
            "marker": {
             "colorbar": {
              "outlinewidth": 0,
              "ticks": ""
             }
            },
            "type": "scatterpolargl"
           }
          ],
          "scatterternary": [
           {
            "marker": {
             "colorbar": {
              "outlinewidth": 0,
              "ticks": ""
             }
            },
            "type": "scatterternary"
           }
          ],
          "surface": [
           {
            "colorbar": {
             "outlinewidth": 0,
             "ticks": ""
            },
            "colorscale": [
             [
              0,
              "#0d0887"
             ],
             [
              0.1111111111111111,
              "#46039f"
             ],
             [
              0.2222222222222222,
              "#7201a8"
             ],
             [
              0.3333333333333333,
              "#9c179e"
             ],
             [
              0.4444444444444444,
              "#bd3786"
             ],
             [
              0.5555555555555556,
              "#d8576b"
             ],
             [
              0.6666666666666666,
              "#ed7953"
             ],
             [
              0.7777777777777778,
              "#fb9f3a"
             ],
             [
              0.8888888888888888,
              "#fdca26"
             ],
             [
              1,
              "#f0f921"
             ]
            ],
            "type": "surface"
           }
          ],
          "table": [
           {
            "cells": {
             "fill": {
              "color": "#EBF0F8"
             },
             "line": {
              "color": "white"
             }
            },
            "header": {
             "fill": {
              "color": "#C8D4E3"
             },
             "line": {
              "color": "white"
             }
            },
            "type": "table"
           }
          ]
         },
         "layout": {
          "annotationdefaults": {
           "arrowcolor": "#2a3f5f",
           "arrowhead": 0,
           "arrowwidth": 1
          },
          "autotypenumbers": "strict",
          "coloraxis": {
           "colorbar": {
            "outlinewidth": 0,
            "ticks": ""
           }
          },
          "colorscale": {
           "diverging": [
            [
             0,
             "#8e0152"
            ],
            [
             0.1,
             "#c51b7d"
            ],
            [
             0.2,
             "#de77ae"
            ],
            [
             0.3,
             "#f1b6da"
            ],
            [
             0.4,
             "#fde0ef"
            ],
            [
             0.5,
             "#f7f7f7"
            ],
            [
             0.6,
             "#e6f5d0"
            ],
            [
             0.7,
             "#b8e186"
            ],
            [
             0.8,
             "#7fbc41"
            ],
            [
             0.9,
             "#4d9221"
            ],
            [
             1,
             "#276419"
            ]
           ],
           "sequential": [
            [
             0,
             "#0d0887"
            ],
            [
             0.1111111111111111,
             "#46039f"
            ],
            [
             0.2222222222222222,
             "#7201a8"
            ],
            [
             0.3333333333333333,
             "#9c179e"
            ],
            [
             0.4444444444444444,
             "#bd3786"
            ],
            [
             0.5555555555555556,
             "#d8576b"
            ],
            [
             0.6666666666666666,
             "#ed7953"
            ],
            [
             0.7777777777777778,
             "#fb9f3a"
            ],
            [
             0.8888888888888888,
             "#fdca26"
            ],
            [
             1,
             "#f0f921"
            ]
           ],
           "sequentialminus": [
            [
             0,
             "#0d0887"
            ],
            [
             0.1111111111111111,
             "#46039f"
            ],
            [
             0.2222222222222222,
             "#7201a8"
            ],
            [
             0.3333333333333333,
             "#9c179e"
            ],
            [
             0.4444444444444444,
             "#bd3786"
            ],
            [
             0.5555555555555556,
             "#d8576b"
            ],
            [
             0.6666666666666666,
             "#ed7953"
            ],
            [
             0.7777777777777778,
             "#fb9f3a"
            ],
            [
             0.8888888888888888,
             "#fdca26"
            ],
            [
             1,
             "#f0f921"
            ]
           ]
          },
          "colorway": [
           "#636efa",
           "#EF553B",
           "#00cc96",
           "#ab63fa",
           "#FFA15A",
           "#19d3f3",
           "#FF6692",
           "#B6E880",
           "#FF97FF",
           "#FECB52"
          ],
          "font": {
           "color": "#2a3f5f"
          },
          "geo": {
           "bgcolor": "white",
           "lakecolor": "white",
           "landcolor": "#E5ECF6",
           "showlakes": true,
           "showland": true,
           "subunitcolor": "white"
          },
          "hoverlabel": {
           "align": "left"
          },
          "hovermode": "closest",
          "mapbox": {
           "style": "light"
          },
          "paper_bgcolor": "white",
          "plot_bgcolor": "#E5ECF6",
          "polar": {
           "angularaxis": {
            "gridcolor": "white",
            "linecolor": "white",
            "ticks": ""
           },
           "bgcolor": "#E5ECF6",
           "radialaxis": {
            "gridcolor": "white",
            "linecolor": "white",
            "ticks": ""
           }
          },
          "scene": {
           "xaxis": {
            "backgroundcolor": "#E5ECF6",
            "gridcolor": "white",
            "gridwidth": 2,
            "linecolor": "white",
            "showbackground": true,
            "ticks": "",
            "zerolinecolor": "white"
           },
           "yaxis": {
            "backgroundcolor": "#E5ECF6",
            "gridcolor": "white",
            "gridwidth": 2,
            "linecolor": "white",
            "showbackground": true,
            "ticks": "",
            "zerolinecolor": "white"
           },
           "zaxis": {
            "backgroundcolor": "#E5ECF6",
            "gridcolor": "white",
            "gridwidth": 2,
            "linecolor": "white",
            "showbackground": true,
            "ticks": "",
            "zerolinecolor": "white"
           }
          },
          "shapedefaults": {
           "line": {
            "color": "#2a3f5f"
           }
          },
          "ternary": {
           "aaxis": {
            "gridcolor": "white",
            "linecolor": "white",
            "ticks": ""
           },
           "baxis": {
            "gridcolor": "white",
            "linecolor": "white",
            "ticks": ""
           },
           "bgcolor": "#E5ECF6",
           "caxis": {
            "gridcolor": "white",
            "linecolor": "white",
            "ticks": ""
           }
          },
          "title": {
           "x": 0.05
          },
          "xaxis": {
           "automargin": true,
           "gridcolor": "white",
           "linecolor": "white",
           "ticks": "",
           "title": {
            "standoff": 15
           },
           "zerolinecolor": "white",
           "zerolinewidth": 2
          },
          "yaxis": {
           "automargin": true,
           "gridcolor": "white",
           "linecolor": "white",
           "ticks": "",
           "title": {
            "standoff": 15
           },
           "zerolinecolor": "white",
           "zerolinewidth": 2
          }
         }
        },
        "xaxis": {
         "anchor": "y",
         "domain": [
          0,
          0.45
         ]
        },
        "xaxis2": {
         "anchor": "y2",
         "domain": [
          0.55,
          1
         ]
        },
        "yaxis": {
         "anchor": "x",
         "domain": [
          0,
          1
         ]
        },
        "yaxis2": {
         "anchor": "x2",
         "domain": [
          0,
          1
         ]
        }
       }
      },
      "text/html": [
       "<div>                            <div id=\"b5224b69-253f-437e-8c27-6404be328335\" class=\"plotly-graph-div\" style=\"height:525px; width:100%;\"></div>            <script type=\"text/javascript\">                require([\"plotly\"], function(Plotly) {                    window.PLOTLYENV=window.PLOTLYENV || {};                                    if (document.getElementById(\"b5224b69-253f-437e-8c27-6404be328335\")) {                    Plotly.newPlot(                        \"b5224b69-253f-437e-8c27-6404be328335\",                        [{\"name\":\"train_acc\",\"y\":[0.5950551629066467,0.7259501814842224,0.778164803981781,0.8140217661857605,0.835740864276886,0.8558549284934998,0.8720759749412537,0.8829013705253601,0.8914045691490173,0.9036983847618103,0.9387016296386719,0.9533176422119141,0.9583717584609985,0.9597377181053162,0.966362714767456,0.9687532186508179,0.9742854237556458,0.9747293591499329,0.9793736934661865,0.9805689454078674,0.9822422862052917,0.9847351908683777,0.9861353039741516,0.9878769516944885,0.9922822117805481,0.9937847852706909,0.9938872456550598,0.9949458837509155,0.9946385025978088,0.9955264329910278,0.9956629872322083,0.995867908000946,0.9955947399139404,0.9954581260681152,0.9953898191452026],\"type\":\"scatter\",\"xaxis\":\"x\",\"yaxis\":\"y\"},{\"name\":\"val_acc\",\"y\":[0.31785276532173157,0.31389153003692627,0.16596093773841858,0.4499385356903076,0.49405819177627563,0.20789510011672974,0.5489687323570251,0.38191503286361694,0.5765605568885803,0.3621090054512024,0.934844970703125,0.8979647755622864,0.9491872787475586,0.9453626275062561,0.918726921081543,0.9530118703842163,0.9510995745658875,0.9519191384315491,0.9027455449104309,0.9306105971336365,0.9643491506576538,0.9441333413124084,0.963392972946167,0.9345718026161194,0.9765059351921082,0.9739106893539429,0.972954511642456,0.972954511642456,0.9755498170852661,0.9751400351524353,0.9752765893936157,0.9752765893936157,0.9754132032394409,0.9755498170852661,0.9755498170852661],\"type\":\"scatter\",\"xaxis\":\"x\",\"yaxis\":\"y\"},{\"name\":\"train_loss\",\"y\":[1.1320102214813232,0.8069106340408325,0.6519196629524231,0.5471145510673523,0.47395166754722595,0.4176967144012451,0.3724498152732849,0.33668720722198486,0.31374895572662354,0.2739429473876953,0.18330834805965424,0.14885616302490234,0.13400547206401825,0.1278153955936432,0.11374349892139435,0.10639157891273499,0.09332092851400375,0.08795296400785446,0.07803355157375336,0.07359255850315094,0.06851467490196228,0.06059234216809273,0.05699944868683815,0.051270682364702225,0.038397613912820816,0.034792304039001465,0.034091558307409286,0.031065599992871284,0.03201163932681084,0.029735244810581207,0.02935688942670822,0.029410358518362045,0.030052749440073967,0.029877303168177605,0.03018139861524105],\"type\":\"scatter\",\"xaxis\":\"x2\",\"yaxis\":\"y2\"},{\"name\":\"val_loss\",\"y\":[2.687612533569336,1.9821929931640625,2.6293251514434814,1.5853697061538696,1.5871001482009888,2.6994142532348633,1.3076578378677368,2.287205457687378,1.4332247972488403,2.3641068935394287,0.18750953674316406,0.2483046054840088,0.16797150671482086,0.1841292679309845,0.21614474058151245,0.16364648938179016,0.1743602156639099,0.15262500941753387,0.3165419101715088,0.21768593788146973,0.13555385172367096,0.1918409764766693,0.13907340168952942,0.18393710255622864,0.10097744315862656,0.11078072339296341,0.11366178095340729,0.1156579852104187,0.10645292699337006,0.10385186225175858,0.10551074147224426,0.1041538417339325,0.10461670160293579,0.10404551774263382,0.1031186431646347],\"type\":\"scatter\",\"xaxis\":\"x2\",\"yaxis\":\"y2\"}],                        {\"template\":{\"data\":{\"histogram2dcontour\":[{\"type\":\"histogram2dcontour\",\"colorbar\":{\"outlinewidth\":0,\"ticks\":\"\"},\"colorscale\":[[0.0,\"#0d0887\"],[0.1111111111111111,\"#46039f\"],[0.2222222222222222,\"#7201a8\"],[0.3333333333333333,\"#9c179e\"],[0.4444444444444444,\"#bd3786\"],[0.5555555555555556,\"#d8576b\"],[0.6666666666666666,\"#ed7953\"],[0.7777777777777778,\"#fb9f3a\"],[0.8888888888888888,\"#fdca26\"],[1.0,\"#f0f921\"]]}],\"choropleth\":[{\"type\":\"choropleth\",\"colorbar\":{\"outlinewidth\":0,\"ticks\":\"\"}}],\"histogram2d\":[{\"type\":\"histogram2d\",\"colorbar\":{\"outlinewidth\":0,\"ticks\":\"\"},\"colorscale\":[[0.0,\"#0d0887\"],[0.1111111111111111,\"#46039f\"],[0.2222222222222222,\"#7201a8\"],[0.3333333333333333,\"#9c179e\"],[0.4444444444444444,\"#bd3786\"],[0.5555555555555556,\"#d8576b\"],[0.6666666666666666,\"#ed7953\"],[0.7777777777777778,\"#fb9f3a\"],[0.8888888888888888,\"#fdca26\"],[1.0,\"#f0f921\"]]}],\"heatmap\":[{\"type\":\"heatmap\",\"colorbar\":{\"outlinewidth\":0,\"ticks\":\"\"},\"colorscale\":[[0.0,\"#0d0887\"],[0.1111111111111111,\"#46039f\"],[0.2222222222222222,\"#7201a8\"],[0.3333333333333333,\"#9c179e\"],[0.4444444444444444,\"#bd3786\"],[0.5555555555555556,\"#d8576b\"],[0.6666666666666666,\"#ed7953\"],[0.7777777777777778,\"#fb9f3a\"],[0.8888888888888888,\"#fdca26\"],[1.0,\"#f0f921\"]]}],\"heatmapgl\":[{\"type\":\"heatmapgl\",\"colorbar\":{\"outlinewidth\":0,\"ticks\":\"\"},\"colorscale\":[[0.0,\"#0d0887\"],[0.1111111111111111,\"#46039f\"],[0.2222222222222222,\"#7201a8\"],[0.3333333333333333,\"#9c179e\"],[0.4444444444444444,\"#bd3786\"],[0.5555555555555556,\"#d8576b\"],[0.6666666666666666,\"#ed7953\"],[0.7777777777777778,\"#fb9f3a\"],[0.8888888888888888,\"#fdca26\"],[1.0,\"#f0f921\"]]}],\"contourcarpet\":[{\"type\":\"contourcarpet\",\"colorbar\":{\"outlinewidth\":0,\"ticks\":\"\"}}],\"contour\":[{\"type\":\"contour\",\"colorbar\":{\"outlinewidth\":0,\"ticks\":\"\"},\"colorscale\":[[0.0,\"#0d0887\"],[0.1111111111111111,\"#46039f\"],[0.2222222222222222,\"#7201a8\"],[0.3333333333333333,\"#9c179e\"],[0.4444444444444444,\"#bd3786\"],[0.5555555555555556,\"#d8576b\"],[0.6666666666666666,\"#ed7953\"],[0.7777777777777778,\"#fb9f3a\"],[0.8888888888888888,\"#fdca26\"],[1.0,\"#f0f921\"]]}],\"surface\":[{\"type\":\"surface\",\"colorbar\":{\"outlinewidth\":0,\"ticks\":\"\"},\"colorscale\":[[0.0,\"#0d0887\"],[0.1111111111111111,\"#46039f\"],[0.2222222222222222,\"#7201a8\"],[0.3333333333333333,\"#9c179e\"],[0.4444444444444444,\"#bd3786\"],[0.5555555555555556,\"#d8576b\"],[0.6666666666666666,\"#ed7953\"],[0.7777777777777778,\"#fb9f3a\"],[0.8888888888888888,\"#fdca26\"],[1.0,\"#f0f921\"]]}],\"mesh3d\":[{\"type\":\"mesh3d\",\"colorbar\":{\"outlinewidth\":0,\"ticks\":\"\"}}],\"scatter\":[{\"fillpattern\":{\"fillmode\":\"overlay\",\"size\":10,\"solidity\":0.2},\"type\":\"scatter\"}],\"parcoords\":[{\"type\":\"parcoords\",\"line\":{\"colorbar\":{\"outlinewidth\":0,\"ticks\":\"\"}}}],\"scatterpolargl\":[{\"type\":\"scatterpolargl\",\"marker\":{\"colorbar\":{\"outlinewidth\":0,\"ticks\":\"\"}}}],\"bar\":[{\"error_x\":{\"color\":\"#2a3f5f\"},\"error_y\":{\"color\":\"#2a3f5f\"},\"marker\":{\"line\":{\"color\":\"#E5ECF6\",\"width\":0.5},\"pattern\":{\"fillmode\":\"overlay\",\"size\":10,\"solidity\":0.2}},\"type\":\"bar\"}],\"scattergeo\":[{\"type\":\"scattergeo\",\"marker\":{\"colorbar\":{\"outlinewidth\":0,\"ticks\":\"\"}}}],\"scatterpolar\":[{\"type\":\"scatterpolar\",\"marker\":{\"colorbar\":{\"outlinewidth\":0,\"ticks\":\"\"}}}],\"histogram\":[{\"marker\":{\"pattern\":{\"fillmode\":\"overlay\",\"size\":10,\"solidity\":0.2}},\"type\":\"histogram\"}],\"scattergl\":[{\"type\":\"scattergl\",\"marker\":{\"colorbar\":{\"outlinewidth\":0,\"ticks\":\"\"}}}],\"scatter3d\":[{\"type\":\"scatter3d\",\"line\":{\"colorbar\":{\"outlinewidth\":0,\"ticks\":\"\"}},\"marker\":{\"colorbar\":{\"outlinewidth\":0,\"ticks\":\"\"}}}],\"scattermapbox\":[{\"type\":\"scattermapbox\",\"marker\":{\"colorbar\":{\"outlinewidth\":0,\"ticks\":\"\"}}}],\"scatterternary\":[{\"type\":\"scatterternary\",\"marker\":{\"colorbar\":{\"outlinewidth\":0,\"ticks\":\"\"}}}],\"scattercarpet\":[{\"type\":\"scattercarpet\",\"marker\":{\"colorbar\":{\"outlinewidth\":0,\"ticks\":\"\"}}}],\"carpet\":[{\"aaxis\":{\"endlinecolor\":\"#2a3f5f\",\"gridcolor\":\"white\",\"linecolor\":\"white\",\"minorgridcolor\":\"white\",\"startlinecolor\":\"#2a3f5f\"},\"baxis\":{\"endlinecolor\":\"#2a3f5f\",\"gridcolor\":\"white\",\"linecolor\":\"white\",\"minorgridcolor\":\"white\",\"startlinecolor\":\"#2a3f5f\"},\"type\":\"carpet\"}],\"table\":[{\"cells\":{\"fill\":{\"color\":\"#EBF0F8\"},\"line\":{\"color\":\"white\"}},\"header\":{\"fill\":{\"color\":\"#C8D4E3\"},\"line\":{\"color\":\"white\"}},\"type\":\"table\"}],\"barpolar\":[{\"marker\":{\"line\":{\"color\":\"#E5ECF6\",\"width\":0.5},\"pattern\":{\"fillmode\":\"overlay\",\"size\":10,\"solidity\":0.2}},\"type\":\"barpolar\"}],\"pie\":[{\"automargin\":true,\"type\":\"pie\"}]},\"layout\":{\"autotypenumbers\":\"strict\",\"colorway\":[\"#636efa\",\"#EF553B\",\"#00cc96\",\"#ab63fa\",\"#FFA15A\",\"#19d3f3\",\"#FF6692\",\"#B6E880\",\"#FF97FF\",\"#FECB52\"],\"font\":{\"color\":\"#2a3f5f\"},\"hovermode\":\"closest\",\"hoverlabel\":{\"align\":\"left\"},\"paper_bgcolor\":\"white\",\"plot_bgcolor\":\"#E5ECF6\",\"polar\":{\"bgcolor\":\"#E5ECF6\",\"angularaxis\":{\"gridcolor\":\"white\",\"linecolor\":\"white\",\"ticks\":\"\"},\"radialaxis\":{\"gridcolor\":\"white\",\"linecolor\":\"white\",\"ticks\":\"\"}},\"ternary\":{\"bgcolor\":\"#E5ECF6\",\"aaxis\":{\"gridcolor\":\"white\",\"linecolor\":\"white\",\"ticks\":\"\"},\"baxis\":{\"gridcolor\":\"white\",\"linecolor\":\"white\",\"ticks\":\"\"},\"caxis\":{\"gridcolor\":\"white\",\"linecolor\":\"white\",\"ticks\":\"\"}},\"coloraxis\":{\"colorbar\":{\"outlinewidth\":0,\"ticks\":\"\"}},\"colorscale\":{\"sequential\":[[0.0,\"#0d0887\"],[0.1111111111111111,\"#46039f\"],[0.2222222222222222,\"#7201a8\"],[0.3333333333333333,\"#9c179e\"],[0.4444444444444444,\"#bd3786\"],[0.5555555555555556,\"#d8576b\"],[0.6666666666666666,\"#ed7953\"],[0.7777777777777778,\"#fb9f3a\"],[0.8888888888888888,\"#fdca26\"],[1.0,\"#f0f921\"]],\"sequentialminus\":[[0.0,\"#0d0887\"],[0.1111111111111111,\"#46039f\"],[0.2222222222222222,\"#7201a8\"],[0.3333333333333333,\"#9c179e\"],[0.4444444444444444,\"#bd3786\"],[0.5555555555555556,\"#d8576b\"],[0.6666666666666666,\"#ed7953\"],[0.7777777777777778,\"#fb9f3a\"],[0.8888888888888888,\"#fdca26\"],[1.0,\"#f0f921\"]],\"diverging\":[[0,\"#8e0152\"],[0.1,\"#c51b7d\"],[0.2,\"#de77ae\"],[0.3,\"#f1b6da\"],[0.4,\"#fde0ef\"],[0.5,\"#f7f7f7\"],[0.6,\"#e6f5d0\"],[0.7,\"#b8e186\"],[0.8,\"#7fbc41\"],[0.9,\"#4d9221\"],[1,\"#276419\"]]},\"xaxis\":{\"gridcolor\":\"white\",\"linecolor\":\"white\",\"ticks\":\"\",\"title\":{\"standoff\":15},\"zerolinecolor\":\"white\",\"automargin\":true,\"zerolinewidth\":2},\"yaxis\":{\"gridcolor\":\"white\",\"linecolor\":\"white\",\"ticks\":\"\",\"title\":{\"standoff\":15},\"zerolinecolor\":\"white\",\"automargin\":true,\"zerolinewidth\":2},\"scene\":{\"xaxis\":{\"backgroundcolor\":\"#E5ECF6\",\"gridcolor\":\"white\",\"linecolor\":\"white\",\"showbackground\":true,\"ticks\":\"\",\"zerolinecolor\":\"white\",\"gridwidth\":2},\"yaxis\":{\"backgroundcolor\":\"#E5ECF6\",\"gridcolor\":\"white\",\"linecolor\":\"white\",\"showbackground\":true,\"ticks\":\"\",\"zerolinecolor\":\"white\",\"gridwidth\":2},\"zaxis\":{\"backgroundcolor\":\"#E5ECF6\",\"gridcolor\":\"white\",\"linecolor\":\"white\",\"showbackground\":true,\"ticks\":\"\",\"zerolinecolor\":\"white\",\"gridwidth\":2}},\"shapedefaults\":{\"line\":{\"color\":\"#2a3f5f\"}},\"annotationdefaults\":{\"arrowcolor\":\"#2a3f5f\",\"arrowhead\":0,\"arrowwidth\":1},\"geo\":{\"bgcolor\":\"white\",\"landcolor\":\"#E5ECF6\",\"subunitcolor\":\"white\",\"showland\":true,\"showlakes\":true,\"lakecolor\":\"white\"},\"title\":{\"x\":0.05},\"mapbox\":{\"style\":\"light\"}}},\"xaxis\":{\"anchor\":\"y\",\"domain\":[0.0,0.45]},\"yaxis\":{\"anchor\":\"x\",\"domain\":[0.0,1.0]},\"xaxis2\":{\"anchor\":\"y2\",\"domain\":[0.55,1.0]},\"yaxis2\":{\"anchor\":\"x2\",\"domain\":[0.0,1.0]},\"annotations\":[{\"font\":{\"size\":16},\"showarrow\":false,\"text\":\"Model Accuracy\",\"x\":0.225,\"xanchor\":\"center\",\"xref\":\"paper\",\"y\":1.0,\"yanchor\":\"bottom\",\"yref\":\"paper\"},{\"font\":{\"size\":16},\"showarrow\":false,\"text\":\"Model Loss\",\"x\":0.775,\"xanchor\":\"center\",\"xref\":\"paper\",\"y\":1.0,\"yanchor\":\"bottom\",\"yref\":\"paper\"}]},                        {\"responsive\": true}                    ).then(function(){\n",
       "                            \n",
       "var gd = document.getElementById('b5224b69-253f-437e-8c27-6404be328335');\n",
       "var x = new MutationObserver(function (mutations, observer) {{\n",
       "        var display = window.getComputedStyle(gd).display;\n",
       "        if (!display || display === 'none') {{\n",
       "            console.log([gd, 'removed!']);\n",
       "            Plotly.purge(gd);\n",
       "            observer.disconnect();\n",
       "        }}\n",
       "}});\n",
       "\n",
       "// Listen for the removal of the full notebook cells\n",
       "var notebookContainer = gd.closest('#notebook-container');\n",
       "if (notebookContainer) {{\n",
       "    x.observe(notebookContainer, {childList: true});\n",
       "}}\n",
       "\n",
       "// Listen for the clearing of the current output cell\n",
       "var outputEl = gd.closest('.output');\n",
       "if (outputEl) {{\n",
       "    x.observe(outputEl, {childList: true});\n",
       "}}\n",
       "\n",
       "                        })                };                });            </script>        </div>"
      ]
     },
     "metadata": {},
     "output_type": "display_data"
    }
   ],
   "source": [
    "plot_model_training_curve(model2_history)"
   ]
  },
  {
   "cell_type": "code",
   "execution_count": 114,
   "id": "7c9a2a21",
   "metadata": {},
   "outputs": [
    {
     "name": "stdout",
     "output_type": "stream",
     "text": [
      "Test Accuracy: 96.605%\n",
      "              precision    recall  f1-score   support\n",
      "\n",
      "          nv       1.00      0.95      0.98      1374\n",
      "         mel       0.89      0.99      0.94       205\n",
      "         bkl       0.87      1.00      0.93       227\n",
      "         bcc       0.95      1.00      0.97        94\n",
      "       akiec       0.95      1.00      0.97        55\n",
      "        vasc       0.97      1.00      0.98        28\n",
      "          df       0.95      1.00      0.98        20\n",
      "\n",
      "    accuracy                           0.97      2003\n",
      "   macro avg       0.94      0.99      0.96      2003\n",
      "weighted avg       0.97      0.97      0.97      2003\n",
      "\n"
     ]
    },
    {
     "data": {
      "image/png": "[encoded data removed]",
      "text/plain": [
       "<Figure size 1584x864 with 15 Axes>"
      ]
     },
     "metadata": {
      "needs_background": "light"
     },
     "output_type": "display_data"
    }
   ],
   "source": [
    "test_model(model, X_test_orig, Y_test_orig)"
   ]
  },
  {
   "cell_type": "code",
   "execution_count": 115,
   "id": "d4fa0fef",
   "metadata": {},
   "outputs": [],
   "source": [
    "y_true = np.array(Y_test_orig)\n",
    "y_pred = model.predict(X_test_orig)"
   ]
  },
  {
   "cell_type": "code",
   "execution_count": 116,
   "id": "f8ee08d9",
   "metadata": {},
   "outputs": [
    {
     "data": {
      "text/plain": [
       "array([[0],\n",
       "       [0],\n",
       "       [2],\n",
       "       ...,\n",
       "       [1],\n",
       "       [0],\n",
       "       [1]], dtype=int64)"
      ]
     },
     "execution_count": 116,
     "metadata": {},
     "output_type": "execute_result"
    }
   ],
   "source": [
    "y_true"
   ]
  },
  {
   "cell_type": "code",
   "execution_count": 117,
   "id": "4d67616b",
   "metadata": {},
   "outputs": [],
   "source": [
    "y_pred = np.array(list(map(lambda x: np.argmax(x), y_pred)))"
   ]
  },
  {
   "cell_type": "code",
   "execution_count": 118,
   "id": "c238d1d7",
   "metadata": {},
   "outputs": [
    {
     "data": {
      "text/plain": [
       "array([0, 2, 2, ..., 1, 0, 1], dtype=int64)"
      ]
     },
     "execution_count": 118,
     "metadata": {},
     "output_type": "execute_result"
    }
   ],
   "source": [
    "y_pred"
   ]
  },
  {
   "cell_type": "code",
   "execution_count": 119,
   "id": "be259c2e",
   "metadata": {},
   "outputs": [
    {
     "name": "stdout",
     "output_type": "stream",
     "text": [
      "[[1308   25   31    5    3    1    1]\n",
      " [   0  203    2    0    0    0    0]\n",
      " [   0    0  227    0    0    0    0]\n",
      " [   0    0    0   94    0    0    0]\n",
      " [   0    0    0    0   55    0    0]\n",
      " [   0    0    0    0    0   28    0]\n",
      " [   0    0    0    0    0    0   20]]\n"
     ]
    }
   ],
   "source": [
    "cm=confusion_matrix(y_true, y_pred)\n",
    "print(cm)"
   ]
  },
  {
   "cell_type": "code",
   "execution_count": 120,
   "id": "43698d8d",
   "metadata": {},
   "outputs": [
    {
     "data": {
      "text/plain": [
       "<AxesSubplot:>"
      ]
     },
     "execution_count": 120,
     "metadata": {},
     "output_type": "execute_result"
    },
    {
     "data": {
      "image/png": "[encoded data removed]",
      "text/plain": [
       "<Figure size 432x288 with 1 Axes>"
      ]
     },
     "metadata": {
      "needs_background": "light"
     },
     "output_type": "display_data"
    }
   ],
   "source": [
    "sns.heatmap(cm,annot = True,cbar=False,fmt='d')"
   ]
  },
  {
   "cell_type": "code",
   "execution_count": null,
   "id": "2fc92ae2",
   "metadata": {},
   "outputs": [],
   "source": []
  }
 ],
 "metadata": {
  "kernelspec": {
   "display_name": "Python 3 (ipykernel)",
   "language": "python",
   "name": "python3"
  },
  "language_info": {
   "codemirror_mode": {
    "name": "ipython",
    "version": 3
   },
   "file_extension": ".py",
   "mimetype": "text/x-python",
   "name": "python",
   "nbconvert_exporter": "python",
   "pygments_lexer": "ipython3",
   "version": "3.9.7"
  }
 },
 "nbformat": 4,
 "nbformat_minor": 5
}
